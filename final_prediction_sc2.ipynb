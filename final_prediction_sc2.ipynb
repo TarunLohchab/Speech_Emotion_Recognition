{
  "nbformat": 4,
  "nbformat_minor": 0,
  "metadata": {
    "colab": {
      "name": "final_prediction_sc2.ipynb",
      "provenance": [],
      "collapsed_sections": []
    },
    "kernelspec": {
      "name": "python3",
      "display_name": "Python 3"
    },
    "accelerator": "TPU"
  },
  "cells": [
    {
      "cell_type": "code",
      "metadata": {
        "id": "7yCEaSMLcJ05"
      },
      "source": [
        "import pandas as pd\n",
        "import matplotlib.pyplot as plt\n",
        "import numpy as np\n",
        "import seaborn as sns\n",
        "import warnings\n",
        "warnings.filterwarnings(\"ignore\")\n",
        "import pickle\n",
        "import os\n",
        "from sklearn.metrics import accuracy_score, confusion_matrix, precision_score, recall_score, f1_score, classification_report\n",
        "from tensorflow import keras"
      ],
      "execution_count": 12,
      "outputs": []
    },
    {
      "cell_type": "code",
      "metadata": {
        "colab": {
          "base_uri": "https://localhost:8080/"
        },
        "id": "eHkLwGNeX2fF",
        "outputId": "3be34131-f5ba-4d0b-9f45-ca046f5e1d52"
      },
      "source": [
        "!python /content/final.py\n",
        "#running our custom final .py file"
      ],
      "execution_count": 2,
      "outputs": [
        {
          "output_type": "stream",
          "text": [
            "2021-03-19 12:01:09.398910: I tensorflow/stream_executor/platform/default/dso_loader.cc:49] Successfully opened dynamic library libcudart.so.11.0\n"
          ],
          "name": "stdout"
        }
      ]
    },
    {
      "cell_type": "code",
      "metadata": {
        "id": "66hUi0H0YSLL"
      },
      "source": [
        "import final\n",
        "#\"\"\" importing our custom final .py file\"\"\""
      ],
      "execution_count": 3,
      "outputs": []
    },
    {
      "cell_type": "code",
      "metadata": {
        "id": "keCqdWS9W1K_"
      },
      "source": [
        "# Creating class object and loading all the saved models\n",
        "final_obj= final.final('/content/drive/MyDrive/Self Case Study/minmax_scaler.pkl', '/content/drive/MyDrive/Self Case Study/label_encoder.pkl', '/content/drive/MyDrive/Self Case Study/cnn_model')"
      ],
      "execution_count": 4,
      "outputs": []
    },
    {
      "cell_type": "code",
      "metadata": {
        "colab": {
          "base_uri": "https://localhost:8080/",
          "height": 214
        },
        "id": "v2RNDa9nuVI9",
        "outputId": "a2f0471e-0d22-4d13-8a71-f01a8f9f0172"
      },
      "source": [
        "#testing predict\n",
        "df= pd.read_csv('/content/drive/MyDrive/Self Case Study/data.csv')\n",
        "df.head(1)"
      ],
      "execution_count": 5,
      "outputs": [
        {
          "output_type": "execute_result",
          "data": {
            "text/html": [
              "<div>\n",
              "<style scoped>\n",
              "    .dataframe tbody tr th:only-of-type {\n",
              "        vertical-align: middle;\n",
              "    }\n",
              "\n",
              "    .dataframe tbody tr th {\n",
              "        vertical-align: top;\n",
              "    }\n",
              "\n",
              "    .dataframe thead th {\n",
              "        text-align: right;\n",
              "    }\n",
              "</style>\n",
              "<table border=\"1\" class=\"dataframe\">\n",
              "  <thead>\n",
              "    <tr style=\"text-align: right;\">\n",
              "      <th></th>\n",
              "      <th>Unnamed: 0</th>\n",
              "      <th>path</th>\n",
              "      <th>emotions</th>\n",
              "      <th>0</th>\n",
              "      <th>1</th>\n",
              "      <th>2</th>\n",
              "      <th>3</th>\n",
              "      <th>4</th>\n",
              "      <th>5</th>\n",
              "      <th>6</th>\n",
              "      <th>7</th>\n",
              "      <th>8</th>\n",
              "      <th>9</th>\n",
              "      <th>10</th>\n",
              "      <th>11</th>\n",
              "      <th>12</th>\n",
              "      <th>13</th>\n",
              "      <th>14</th>\n",
              "      <th>15</th>\n",
              "      <th>16</th>\n",
              "      <th>17</th>\n",
              "      <th>18</th>\n",
              "      <th>19</th>\n",
              "      <th>20</th>\n",
              "      <th>21</th>\n",
              "      <th>22</th>\n",
              "      <th>23</th>\n",
              "      <th>24</th>\n",
              "      <th>25</th>\n",
              "      <th>26</th>\n",
              "      <th>27</th>\n",
              "      <th>28</th>\n",
              "      <th>29</th>\n",
              "      <th>30</th>\n",
              "      <th>31</th>\n",
              "      <th>32</th>\n",
              "      <th>33</th>\n",
              "      <th>34</th>\n",
              "      <th>35</th>\n",
              "      <th>36</th>\n",
              "      <th>...</th>\n",
              "      <th>101</th>\n",
              "      <th>102</th>\n",
              "      <th>103</th>\n",
              "      <th>104</th>\n",
              "      <th>105</th>\n",
              "      <th>106</th>\n",
              "      <th>107</th>\n",
              "      <th>108</th>\n",
              "      <th>109</th>\n",
              "      <th>110</th>\n",
              "      <th>111</th>\n",
              "      <th>112</th>\n",
              "      <th>113</th>\n",
              "      <th>114</th>\n",
              "      <th>115</th>\n",
              "      <th>116</th>\n",
              "      <th>117</th>\n",
              "      <th>118</th>\n",
              "      <th>119</th>\n",
              "      <th>120</th>\n",
              "      <th>121</th>\n",
              "      <th>122</th>\n",
              "      <th>123</th>\n",
              "      <th>124</th>\n",
              "      <th>125</th>\n",
              "      <th>126</th>\n",
              "      <th>127</th>\n",
              "      <th>128</th>\n",
              "      <th>129</th>\n",
              "      <th>130</th>\n",
              "      <th>131</th>\n",
              "      <th>132</th>\n",
              "      <th>133</th>\n",
              "      <th>134</th>\n",
              "      <th>135</th>\n",
              "      <th>136</th>\n",
              "      <th>137</th>\n",
              "      <th>138</th>\n",
              "      <th>139</th>\n",
              "      <th>140</th>\n",
              "    </tr>\n",
              "  </thead>\n",
              "  <tbody>\n",
              "    <tr>\n",
              "      <th>0</th>\n",
              "      <td>0</td>\n",
              "      <td>/content/TESS Toronto emotional speech set dat...</td>\n",
              "      <td>angry</td>\n",
              "      <td>0.30633</td>\n",
              "      <td>0.027156</td>\n",
              "      <td>0.018023</td>\n",
              "      <td>0.006379</td>\n",
              "      <td>0.009205</td>\n",
              "      <td>0.058144</td>\n",
              "      <td>0.149881</td>\n",
              "      <td>0.812229</td>\n",
              "      <td>1.819697</td>\n",
              "      <td>0.697084</td>\n",
              "      <td>0.284318</td>\n",
              "      <td>0.370404</td>\n",
              "      <td>1.201798</td>\n",
              "      <td>2.118439</td>\n",
              "      <td>0.710244</td>\n",
              "      <td>2.26702</td>\n",
              "      <td>11.65243</td>\n",
              "      <td>9.945084</td>\n",
              "      <td>3.938485</td>\n",
              "      <td>2.263899</td>\n",
              "      <td>0.358536</td>\n",
              "      <td>0.137015</td>\n",
              "      <td>0.07879</td>\n",
              "      <td>0.103248</td>\n",
              "      <td>0.638341</td>\n",
              "      <td>1.407552</td>\n",
              "      <td>1.720063</td>\n",
              "      <td>1.090128</td>\n",
              "      <td>0.864072</td>\n",
              "      <td>0.555931</td>\n",
              "      <td>0.255999</td>\n",
              "      <td>0.083801</td>\n",
              "      <td>0.072725</td>\n",
              "      <td>0.161313</td>\n",
              "      <td>1.278271</td>\n",
              "      <td>1.667713</td>\n",
              "      <td>0.306394</td>\n",
              "      <td>...</td>\n",
              "      <td>0.001217</td>\n",
              "      <td>0.000901</td>\n",
              "      <td>0.00125</td>\n",
              "      <td>0.00206</td>\n",
              "      <td>0.002163</td>\n",
              "      <td>0.003757</td>\n",
              "      <td>0.002836</td>\n",
              "      <td>0.003426</td>\n",
              "      <td>0.004881</td>\n",
              "      <td>0.006578</td>\n",
              "      <td>0.008321</td>\n",
              "      <td>0.007439</td>\n",
              "      <td>0.005527</td>\n",
              "      <td>0.006339</td>\n",
              "      <td>0.008361</td>\n",
              "      <td>0.010836</td>\n",
              "      <td>0.01174</td>\n",
              "      <td>0.016675</td>\n",
              "      <td>0.017556</td>\n",
              "      <td>0.028561</td>\n",
              "      <td>0.024322</td>\n",
              "      <td>0.012027</td>\n",
              "      <td>0.017793</td>\n",
              "      <td>0.01553</td>\n",
              "      <td>0.014297</td>\n",
              "      <td>0.004712</td>\n",
              "      <td>0.000387</td>\n",
              "      <td>-343.2179</td>\n",
              "      <td>32.592148</td>\n",
              "      <td>-3.941084</td>\n",
              "      <td>24.603947</td>\n",
              "      <td>-18.831808</td>\n",
              "      <td>-6.736715</td>\n",
              "      <td>0.991936</td>\n",
              "      <td>-15.011475</td>\n",
              "      <td>-8.271952</td>\n",
              "      <td>-3.882542</td>\n",
              "      <td>-16.573217</td>\n",
              "      <td>13.243216</td>\n",
              "      <td>-13.899858</td>\n",
              "    </tr>\n",
              "  </tbody>\n",
              "</table>\n",
              "<p>1 rows × 144 columns</p>\n",
              "</div>"
            ],
            "text/plain": [
              "   Unnamed: 0  ...        140\n",
              "0           0  ... -13.899858\n",
              "\n",
              "[1 rows x 144 columns]"
            ]
          },
          "metadata": {
            "tags": []
          },
          "execution_count": 5
        }
      ]
    },
    {
      "cell_type": "code",
      "metadata": {
        "colab": {
          "base_uri": "https://localhost:8080/"
        },
        "id": "bLHe6HS7umyx",
        "outputId": "c6abd0f1-76f3-4eb0-88f0-341d088e59ca"
      },
      "source": [
        "# testing with 2 query points, this can be any data with any number of rows but 141 columns\n",
        "xq= df.iloc[0:2, 3:]\n",
        "print(type(xq))\n",
        "print(xq.shape)"
      ],
      "execution_count": 6,
      "outputs": [
        {
          "output_type": "stream",
          "text": [
            "<class 'pandas.core.frame.DataFrame'>\n",
            "(2, 141)\n"
          ],
          "name": "stdout"
        }
      ]
    },
    {
      "cell_type": "code",
      "metadata": {
        "colab": {
          "base_uri": "https://localhost:8080/"
        },
        "id": "wuAZZQNKXnJq",
        "outputId": "992092e3-8e70-4007-b506-0c6a454e2bd0"
      },
      "source": [
        "#final_prediction that reuturns an array of emotional words corrosponding to 141 numerical Mel features\n",
        "final_obj.predict(xq)"
      ],
      "execution_count": 7,
      "outputs": [
        {
          "output_type": "execute_result",
          "data": {
            "text/plain": [
              "array(['angry', 'angry'], dtype=object)"
            ]
          },
          "metadata": {
            "tags": []
          },
          "execution_count": 7
        }
      ]
    },
    {
      "cell_type": "code",
      "metadata": {
        "colab": {
          "base_uri": "https://localhost:8080/"
        },
        "id": "hvrQjQBbXBA4",
        "outputId": "b7a333c3-4d11-4454-d6af-58739824352d"
      },
      "source": [
        "# predicting and getting prediction vs original table heads by passing our dataset. We can pass json or csv format\n",
        "final_obj.train_test_results('/content/drive/MyDrive/Self Case Study/data.csv')"
      ],
      "execution_count": 8,
      "outputs": [
        {
          "output_type": "stream",
          "text": [
            "  prediction\n",
            "0  surprised\n",
            "1       calm\n",
            "2    disgust\n",
            "3    disgust\n",
            "4      happy \n",
            " \n",
            "       actual\n",
            "0  surprised\n",
            "1       calm\n",
            "2    disgust\n",
            "3       calm\n",
            "4      happy\n"
          ],
          "name": "stdout"
        }
      ]
    },
    {
      "cell_type": "code",
      "metadata": {
        "id": "WA96Rh0EM081"
      },
      "source": [
        "# saving class results in variables to use them in function 2 for train- test evaluation\n",
        "y_train = final_obj.y_train\n",
        "y_test = final_obj.y_test\n",
        "y_pred_tr = final_obj.y_pred_tr\n",
        "y_pred_te = final_obj.y_pred_te\n",
        "prediction = final_obj.prediction\n",
        "actual = final_obj.actual\n",
        "class_label= final_obj.class_label"
      ],
      "execution_count": 9,
      "outputs": []
    },
    {
      "cell_type": "code",
      "metadata": {
        "id": "rdjkMRRxXKBW"
      },
      "source": [
        "def function_2(y_train, y_test, y_pred_tr, y_pred_te, prediction, actual, class_label):\n",
        "    \"\"\"this function prints the actual_vs_predict df, confuion_matrix and the final classification report\"\"\"\n",
        "    \n",
        "    true_vs_pred = pd.concat([actual, prediction], axis=1)\n",
        "\n",
        "    classes = list(class_label.unique())\n",
        "    \n",
        "    cm  = confusion_matrix(actual, prediction, labels= classes)\n",
        "    cm = pd.DataFrame(cm , index = classes , columns = classes)\n",
        "\n",
        "    plt.figure(figsize = (10, 8))\n",
        "    sns.heatmap(cm, linecolor='white', cmap='Blues', linewidth=1, annot=True, fmt='')\n",
        "    plt.xlabel('Predicted')\n",
        "    plt.ylabel('True')\n",
        "    plt.title('Confusion matrix for cnn')\n",
        "    plt.show()\n",
        "    \n",
        "    print(classification_report(actual, prediction, target_names = classes))"
      ],
      "execution_count": 10,
      "outputs": []
    },
    {
      "cell_type": "code",
      "metadata": {
        "colab": {
          "base_uri": "https://localhost:8080/",
          "height": 768
        },
        "id": "uD8F6X3AblPg",
        "outputId": "d1206a1c-a7ce-45f2-f65c-ae5678d7bec2"
      },
      "source": [
        "function_2(y_train, y_test, y_pred_tr, y_pred_te, prediction, actual, class_label)"
      ],
      "execution_count": 11,
      "outputs": [
        {
          "output_type": "display_data",
          "data": {
            "image/png": "[encoded data removed]",
            "text/plain": [
              "<Figure size 720x576 with 2 Axes>"
            ]
          },
          "metadata": {
            "tags": [],
            "needs_background": "light"
          }
        },
        {
          "output_type": "stream",
          "text": [
            "              precision    recall  f1-score   support\n",
            "\n",
            "       angry       0.89      0.92      0.91       155\n",
            "     disgust       0.67      0.61      0.64        75\n",
            "   surprised       0.82      0.87      0.84       119\n",
            "     neutral       0.83      0.84      0.84       155\n",
            "         sad       0.88      0.84      0.86       155\n",
            "       happy       0.95      0.81      0.87       118\n",
            "        fear       0.92      0.76      0.83       155\n",
            "        calm       0.70      0.97      0.81       119\n",
            "\n",
            "    accuracy                           0.84      1051\n",
            "   macro avg       0.83      0.83      0.82      1051\n",
            "weighted avg       0.85      0.84      0.84      1051\n",
            "\n"
          ],
          "name": "stdout"
        }
      ]
    }
  ]
}